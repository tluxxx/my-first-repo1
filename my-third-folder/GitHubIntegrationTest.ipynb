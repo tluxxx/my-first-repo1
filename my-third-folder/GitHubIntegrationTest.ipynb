{
  "nbformat": 4,
  "nbformat_minor": 0,
  "metadata": {
    "colab": {
      "provenance": [],
      "authorship_tag": "ABX9TyPN8GydTdCZqUQYAEf8lqPR",
      "include_colab_link": true
    },
    "kernelspec": {
      "name": "python3",
      "display_name": "Python 3"
    },
    "language_info": {
      "name": "python"
    }
  },
  "cells": [
    {
      "cell_type": "markdown",
      "metadata": {
        "id": "view-in-github",
        "colab_type": "text"
      },
      "source": [
        "<a href=\"https://colab.research.google.com/github/tluxxx/my-first-repo1/blob/main/my-third-folder/GitHubIntegrationTest.ipynb\" target=\"_parent\"><img src=\"https://colab.research.google.com/assets/colab-badge.svg\" alt=\"Open In Colab\"/></a>"
      ]
    },
    {
      "cell_type": "code",
      "execution_count": null,
      "metadata": {
        "id": "hj-9C1YCeXmO"
      },
      "outputs": [],
      "source": [
        "# das ist ein Test für GitHub\n",
        "## weiters Update des Files\n",
        "### dritttes Update des Files\n"
      ]
    }
  ]
}